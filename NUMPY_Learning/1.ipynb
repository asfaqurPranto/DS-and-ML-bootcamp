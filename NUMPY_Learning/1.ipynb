{
 "cells": [
  {
   "cell_type": "code",
   "execution_count": 6,
   "metadata": {},
   "outputs": [
    {
     "name": "stdout",
     "output_type": "stream",
     "text": [
      "[ 0  1  2  5  6  8 10]\n"
     ]
    },
    {
     "data": {
      "text/plain": [
       "numpy.ndarray"
      ]
     },
     "execution_count": 6,
     "metadata": {},
     "output_type": "execute_result"
    }
   ],
   "source": [
    "import numpy as np\n",
    "list=[0,1,2,5,6,8,10] \n",
    "n1=np.array(list)\n",
    "print(n1)\n",
    "\n",
    "type(n1)"
   ]
  },
  {
   "cell_type": "code",
   "execution_count": 8,
   "metadata": {},
   "outputs": [
    {
     "name": "stdout",
     "output_type": "stream",
     "text": [
      "[[1 2 3 4]\n",
      " [5 6 7 8]]\n"
     ]
    }
   ],
   "source": [
    "n2=np.array([[1,2,3,4],[5,6,7,8]])\n",
    "print(n2)"
   ]
  },
  {
   "cell_type": "code",
   "execution_count": 18,
   "metadata": {},
   "outputs": [
    {
     "name": "stdout",
     "output_type": "stream",
     "text": [
      "[[0. 0. 0. 0. 0. 0.]\n",
      " [0. 0. 0. 0. 0. 0.]\n",
      " [0. 0. 0. 0. 0. 0.]]\n",
      "[[1. 1. 1.]\n",
      " [1. 1. 1.]\n",
      " [1. 1. 1.]]\n",
      "[[7 7 7 7]\n",
      " [7 7 7 7]\n",
      " [7 7 7 7]]\n"
     ]
    }
   ],
   "source": [
    "# all zero array n=np.zeros((row,col)), for one dimentional x=np.zeros(n)\n",
    "n2=np.zeros((3,6))\n",
    "print(n2)\n",
    "\n",
    "# for all one array n=np.ones((row,col)) similiar for one dimentional\n",
    "n3=np.ones((3,3))\n",
    "print(n3)\n",
    "\n",
    "\n",
    "#for other value we need to use full n=np.full((dimention),value)\n",
    "n4=np.full((3,4),7)\n",
    "print(n4)\n",
    "\n"
   ]
  },
  {
   "cell_type": "code",
   "execution_count": 22,
   "metadata": {},
   "outputs": [
    {
     "name": "stdout",
     "output_type": "stream",
     "text": [
      "[10 11 12 13 14 15 16 17 18 19]\n",
      "[10 15 20 25 30 35 40 45]\n",
      "[16  5  9 15 16]\n"
     ]
    }
   ],
   "source": [
    "#Initializing numpy array within a range (np.arange())\n",
    "n5=np.arange(10,20)  # will generate array from 10 - 19 (not containing righter value)\n",
    "print(n5)\n",
    "\n",
    "#range and number getting incremented by certain value np.arange(left,right,inc)\n",
    "n6=np.arange(10,50,5)\n",
    "print(n6)\n",
    "\n",
    "# generate array with random value np.random.randint(range,n)\n",
    "n7=np.random.randint(1,20,5)    \n",
    "print(n7)\n"
   ]
  },
  {
   "cell_type": "code",
   "execution_count": 29,
   "metadata": {},
   "outputs": [
    {
     "name": "stdout",
     "output_type": "stream",
     "text": [
      "[[1 2]\n",
      " [3 4]\n",
      " [5 6]\n",
      " [7 8]]\n"
     ]
    }
   ],
   "source": [
    "# Checking shape and changing the shape of numpy array\n",
    "n2=np.array([[1,2,3,4],[5,6,7,8]])\n",
    "n2.shape  # Will show the dimention of the array\n",
    "\n",
    "n2.shape=(4,2)  # reshape array into desired dimention(can interchange between col and row)\n",
    "print(n2)"
   ]
  }
 ],
 "metadata": {
  "kernelspec": {
   "display_name": "Python 3",
   "language": "python",
   "name": "python3"
  },
  "language_info": {
   "name": "python",
   "version": "3.10.7"
  },
  "orig_nbformat": 4
 },
 "nbformat": 4,
 "nbformat_minor": 2
}
