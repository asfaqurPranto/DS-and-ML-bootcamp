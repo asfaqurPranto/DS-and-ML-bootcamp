{
 "cells": [
  {
   "cell_type": "code",
   "execution_count": null,
   "metadata": {},
   "outputs": [
    {
     "name": "stdout",
     "output_type": "stream",
     "text": [
      "Catination : \n",
      "[1 2 3 2 3 4]\n",
      "Union operation\n",
      "[1 2 3 4]\n",
      "Intersection operation\n",
      "[2 3]\n"
     ]
    }
   ],
   "source": [
    "import numpy as np\n",
    "n1=np.array([1,2,3])\n",
    "\n",
    "n2=np.array([2,3,4])\n",
    "\n",
    "print(\"Catination : \")\n",
    "print(np.concatenate((n1,n2)))\n",
    "\n",
    "# array union operation using union1d(l1,l2)\n",
    "n3=np.union1d(n1,n2)\n",
    "print(\"Union operation\")\n",
    "print(n3)\n",
    "\n",
    "#Finding intersection of two array\n",
    "n4=np.intersect1d(n1,n2)\n",
    "print(\"Intersection operation\")\n",
    "print(n4)\n"
   ]
  },
  {
   "cell_type": "code",
   "execution_count": null,
   "metadata": {},
   "outputs": [],
   "source": []
  }
 ],
 "metadata": {
  "kernelspec": {
   "display_name": "Python 3",
   "language": "python",
   "name": "python3"
  },
  "language_info": {
   "codemirror_mode": {
    "name": "ipython",
    "version": 3
   },
   "file_extension": ".py",
   "mimetype": "text/x-python",
   "name": "python",
   "nbconvert_exporter": "python",
   "pygments_lexer": "ipython3",
   "version": "3.10.7"
  },
  "orig_nbformat": 4
 },
 "nbformat": 4,
 "nbformat_minor": 2
}
